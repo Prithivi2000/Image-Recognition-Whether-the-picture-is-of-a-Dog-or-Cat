{
 "cells": [
  {
   "cell_type": "code",
   "execution_count": 1,
   "metadata": {},
   "outputs": [
    {
     "name": "stderr",
     "output_type": "stream",
     "text": [
      "Using TensorFlow backend.\n"
     ]
    }
   ],
   "source": [
    "import tensorflow as tf\n",
    "from keras.preprocessing.image import ImageDataGenerator"
   ]
  },
  {
   "cell_type": "code",
   "execution_count": 2,
   "metadata": {},
   "outputs": [
    {
     "data": {
      "text/plain": [
       "'2.1.0'"
      ]
     },
     "execution_count": 2,
     "metadata": {},
     "output_type": "execute_result"
    }
   ],
   "source": [
    "tf.__version__"
   ]
  },
  {
   "cell_type": "markdown",
   "metadata": {},
   "source": [
    "## Data Preprocessing"
   ]
  },
  {
   "cell_type": "code",
   "execution_count": 3,
   "metadata": {},
   "outputs": [
    {
     "name": "stdout",
     "output_type": "stream",
     "text": [
      "Found 8000 images belonging to 2 classes.\n"
     ]
    }
   ],
   "source": [
    "train_datagen = ImageDataGenerator(\n",
    "    rescale = 1./255,\n",
    "    shear_range = 0.2,\n",
    "    zoom_range = 0.2,\n",
    "    horizontal_flip = True\n",
    ")\n",
    "training_set = train_datagen.flow_from_directory(\n",
    "        'training_set',\n",
    "        target_size=(64,64),\n",
    "        batch_size=32,\n",
    "        class_mode='binary')"
   ]
  },
  {
   "cell_type": "markdown",
   "metadata": {},
   "source": [
    "## Preprocessing the test set"
   ]
  },
  {
   "cell_type": "code",
   "execution_count": 4,
   "metadata": {},
   "outputs": [
    {
     "name": "stdout",
     "output_type": "stream",
     "text": [
      "Found 2000 images belonging to 2 classes.\n"
     ]
    }
   ],
   "source": [
    "test_datagen = ImageDataGenerator(rescale=1./255)\n",
    "test_set = test_datagen.flow_from_directory(\n",
    "        'test_set',\n",
    "        target_size=(64,64),\n",
    "        batch_size=32,\n",
    "        class_mode='binary')"
   ]
  },
  {
   "cell_type": "markdown",
   "metadata": {},
   "source": [
    "# Building CNN\n",
    "## Initialising the CNN"
   ]
  },
  {
   "cell_type": "code",
   "execution_count": 5,
   "metadata": {},
   "outputs": [],
   "source": [
    "cnn = tf.keras.models.Sequential()"
   ]
  },
  {
   "cell_type": "markdown",
   "metadata": {},
   "source": [
    "## Convolution"
   ]
  },
  {
   "cell_type": "code",
   "execution_count": 6,
   "metadata": {},
   "outputs": [],
   "source": [
    "cnn.add(tf.keras.layers.Conv2D(filters=32, kernel_size=3, activation='relu', input_shape = [64,64,3]))"
   ]
  },
  {
   "cell_type": "markdown",
   "metadata": {},
   "source": [
    "## Pooling"
   ]
  },
  {
   "cell_type": "code",
   "execution_count": 7,
   "metadata": {},
   "outputs": [],
   "source": [
    "cnn.add(tf.keras.layers.MaxPool2D(pool_size=2, strides=2))"
   ]
  },
  {
   "cell_type": "markdown",
   "metadata": {},
   "source": [
    "# Adding the Second layer"
   ]
  },
  {
   "cell_type": "code",
   "execution_count": 8,
   "metadata": {},
   "outputs": [],
   "source": [
    "cnn.add(tf.keras.layers.Conv2D(filters=32, kernel_size=3, activation='relu'))\n",
    "cnn.add(tf.keras.layers.MaxPool2D(pool_size=2, strides=2))"
   ]
  },
  {
   "cell_type": "markdown",
   "metadata": {},
   "source": [
    "## Flatening"
   ]
  },
  {
   "cell_type": "code",
   "execution_count": 9,
   "metadata": {},
   "outputs": [],
   "source": [
    "cnn.add(tf.keras.layers.Flatten())"
   ]
  },
  {
   "cell_type": "markdown",
   "metadata": {},
   "source": [
    "## Full Connection"
   ]
  },
  {
   "cell_type": "code",
   "execution_count": 10,
   "metadata": {},
   "outputs": [],
   "source": [
    "cnn.add(tf.keras.layers.Dense(units=128, activation='relu'))"
   ]
  },
  {
   "cell_type": "markdown",
   "metadata": {},
   "source": [
    "## Output Layer"
   ]
  },
  {
   "cell_type": "code",
   "execution_count": 11,
   "metadata": {},
   "outputs": [],
   "source": [
    "cnn.add(tf.keras.layers.Dense(units=1, activation='sigmoid'))"
   ]
  },
  {
   "cell_type": "markdown",
   "metadata": {},
   "source": [
    "# Training the CNN"
   ]
  },
  {
   "cell_type": "markdown",
   "metadata": {},
   "source": [
    "## Compiling the CNN"
   ]
  },
  {
   "cell_type": "code",
   "execution_count": 12,
   "metadata": {},
   "outputs": [],
   "source": [
    "cnn.compile(optimizer='adam' , loss='binary_crossentropy' , metrics=['accuracy'])"
   ]
  },
  {
   "cell_type": "markdown",
   "metadata": {},
   "source": [
    "## Training the CNN on the training set and evaluating it on the Test Set"
   ]
  },
  {
   "cell_type": "code",
   "execution_count": 13,
   "metadata": {},
   "outputs": [
    {
     "name": "stdout",
     "output_type": "stream",
     "text": [
      "WARNING:tensorflow:sample_weight modes were coerced from\n",
      "  ...\n",
      "    to  \n",
      "  ['...']\n",
      "WARNING:tensorflow:sample_weight modes were coerced from\n",
      "  ...\n",
      "    to  \n",
      "  ['...']\n",
      "Train for 250 steps, validate for 63 steps\n",
      "Epoch 1/25\n",
      "250/250 [==============================] - 407s 2s/step - loss: 0.6836 - accuracy: 0.5544 - val_loss: 0.6718 - val_accuracy: 0.5905\n",
      "Epoch 2/25\n",
      "250/250 [==============================] - 99s 397ms/step - loss: 0.6431 - accuracy: 0.6331 - val_loss: 0.6222 - val_accuracy: 0.6510\n",
      "Epoch 3/25\n",
      "250/250 [==============================] - 145s 579ms/step - loss: 0.6074 - accuracy: 0.6709 - val_loss: 0.5678 - val_accuracy: 0.7145\n",
      "Epoch 4/25\n",
      "250/250 [==============================] - 107s 429ms/step - loss: 0.5619 - accuracy: 0.7060 - val_loss: 0.5491 - val_accuracy: 0.7215\n",
      "Epoch 5/25\n",
      "250/250 [==============================] - 183s 730ms/step - loss: 0.5288 - accuracy: 0.7371 - val_loss: 0.5093 - val_accuracy: 0.7625\n",
      "Epoch 6/25\n",
      "250/250 [==============================] - 85s 338ms/step - loss: 0.4993 - accuracy: 0.7546 - val_loss: 0.5067 - val_accuracy: 0.7615\n",
      "Epoch 7/25\n",
      "250/250 [==============================] - 251s 1s/step - loss: 0.4759 - accuracy: 0.7721 - val_loss: 0.5311 - val_accuracy: 0.7505\n",
      "Epoch 8/25\n",
      "250/250 [==============================] - 109s 436ms/step - loss: 0.4570 - accuracy: 0.7876 - val_loss: 0.5142 - val_accuracy: 0.7625\n",
      "Epoch 9/25\n",
      "250/250 [==============================] - 81s 325ms/step - loss: 0.4389 - accuracy: 0.7909 - val_loss: 0.4901 - val_accuracy: 0.7805\n",
      "Epoch 10/25\n",
      "250/250 [==============================] - 83s 333ms/step - loss: 0.4267 - accuracy: 0.8021 - val_loss: 0.4960 - val_accuracy: 0.7655\n",
      "Epoch 11/25\n",
      "250/250 [==============================] - 81s 324ms/step - loss: 0.4168 - accuracy: 0.8065 - val_loss: 0.4794 - val_accuracy: 0.7825\n",
      "Epoch 12/25\n",
      "250/250 [==============================] - 73s 292ms/step - loss: 0.3970 - accuracy: 0.8156 - val_loss: 0.4880 - val_accuracy: 0.7865\n",
      "Epoch 13/25\n",
      "250/250 [==============================] - 77s 307ms/step - loss: 0.3741 - accuracy: 0.8310 - val_loss: 0.4780 - val_accuracy: 0.7885\n",
      "Epoch 14/25\n",
      "250/250 [==============================] - 81s 324ms/step - loss: 0.3711 - accuracy: 0.8286 - val_loss: 0.6068 - val_accuracy: 0.7270\n",
      "Epoch 15/25\n",
      "250/250 [==============================] - 77s 308ms/step - loss: 0.3561 - accuracy: 0.8406 - val_loss: 0.4756 - val_accuracy: 0.8010\n",
      "Epoch 16/25\n",
      "250/250 [==============================] - 72s 289ms/step - loss: 0.3387 - accuracy: 0.8520 - val_loss: 0.5339 - val_accuracy: 0.7835\n",
      "Epoch 17/25\n",
      "250/250 [==============================] - 71s 286ms/step - loss: 0.3298 - accuracy: 0.8559 - val_loss: 0.4917 - val_accuracy: 0.7815\n",
      "Epoch 18/25\n",
      "250/250 [==============================] - 72s 290ms/step - loss: 0.3117 - accuracy: 0.8644 - val_loss: 0.4778 - val_accuracy: 0.8100\n",
      "Epoch 19/25\n",
      "250/250 [==============================] - 72s 287ms/step - loss: 0.3074 - accuracy: 0.8662 - val_loss: 0.4845 - val_accuracy: 0.8045\n",
      "Epoch 20/25\n",
      "250/250 [==============================] - 73s 293ms/step - loss: 0.2964 - accuracy: 0.8651 - val_loss: 0.4721 - val_accuracy: 0.8020\n",
      "Epoch 21/25\n",
      "250/250 [==============================] - 71s 284ms/step - loss: 0.2771 - accuracy: 0.8774 - val_loss: 0.5252 - val_accuracy: 0.7960\n",
      "Epoch 22/25\n",
      "250/250 [==============================] - 72s 287ms/step - loss: 0.2669 - accuracy: 0.8874 - val_loss: 0.5155 - val_accuracy: 0.7965\n",
      "Epoch 23/25\n",
      "250/250 [==============================] - 73s 291ms/step - loss: 0.2564 - accuracy: 0.8964 - val_loss: 0.5090 - val_accuracy: 0.8000\n",
      "Epoch 24/25\n",
      "250/250 [==============================] - 72s 288ms/step - loss: 0.2513 - accuracy: 0.8940 - val_loss: 0.5768 - val_accuracy: 0.7815\n",
      "Epoch 25/25\n",
      "250/250 [==============================] - 73s 293ms/step - loss: 0.2304 - accuracy: 0.9019 - val_loss: 0.5749 - val_accuracy: 0.7885\n"
     ]
    },
    {
     "data": {
      "text/plain": [
       "<tensorflow.python.keras.callbacks.History at 0x21763050448>"
      ]
     },
     "execution_count": 13,
     "metadata": {},
     "output_type": "execute_result"
    }
   ],
   "source": [
    "cnn.fit(x=training_set, validation_data= test_set, epochs=25)"
   ]
  },
  {
   "cell_type": "markdown",
   "metadata": {},
   "source": [
    "# Making Simple Prediction"
   ]
  },
  {
   "cell_type": "code",
   "execution_count": 14,
   "metadata": {},
   "outputs": [],
   "source": [
    "import numpy as np\n",
    "from keras.preprocessing import image\n",
    "test_image= image.load_img('single_prediction/cat_or_dog_1.jpg', target_size= (64, 64))\n",
    "test_image= image.img_to_array(test_image)\n",
    "test_image= np.expand_dims(test_image, axis= 0)\n",
    "result= cnn.predict(test_image)\n",
    "training_set.class_indices\n",
    "if result[0][0] == 1:\n",
    "    prediction= 'dog'\n",
    "else:\n",
    "    prediction = 'cat'"
   ]
  },
  {
   "cell_type": "code",
   "execution_count": 15,
   "metadata": {},
   "outputs": [
    {
     "name": "stdout",
     "output_type": "stream",
     "text": [
      "dog\n"
     ]
    }
   ],
   "source": [
    "print(prediction)"
   ]
  }
 ],
 "metadata": {
  "kernelspec": {
   "display_name": "Python 3",
   "language": "python",
   "name": "python3"
  },
  "language_info": {
   "codemirror_mode": {
    "name": "ipython",
    "version": 3
   },
   "file_extension": ".py",
   "mimetype": "text/x-python",
   "name": "python",
   "nbconvert_exporter": "python",
   "pygments_lexer": "ipython3",
   "version": "3.7.7"
  }
 },
 "nbformat": 4,
 "nbformat_minor": 4
}
